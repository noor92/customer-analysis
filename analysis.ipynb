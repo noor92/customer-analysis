{
 "cells": [
  {
   "attachments": {},
   "cell_type": "markdown",
   "metadata": {},
   "source": [
    "Purpose of this notebook:\n",
    "1. Explore the data\n",
    "2. Understand customer base\n",
    "3. Explore factors that could affect the price column"
   ]
  },
  {
   "attachments": {},
   "cell_type": "markdown",
   "metadata": {},
   "source": [
    "#### Imports"
   ]
  },
  {
   "cell_type": "code",
   "execution_count": 5,
   "metadata": {},
   "outputs": [],
   "source": [
    "import pandas as pd\n",
    "from scipy import stats\n",
    "import statsmodels.api as sm\n",
    "import numpy as np\n",
    "import seaborn as sns\n",
    "import matplotlib.pyplot as plt \n",
    "from sklearn.preprocessing import LabelEncoder\n",
    "import pingouin as pg\n"
   ]
  },
  {
   "attachments": {},
   "cell_type": "markdown",
   "metadata": {},
   "source": [
    "leave a messsage"
   ]
  },
  {
   "attachments": {},
   "cell_type": "markdown",
   "metadata": {},
   "source": [
    "#### Exploration"
   ]
  },
  {
   "cell_type": "code",
   "execution_count": 598,
   "metadata": {},
   "outputs": [],
   "source": [
    "PATH = \"./data/\""
   ]
  },
  {
   "cell_type": "code",
   "execution_count": 599,
   "metadata": {},
   "outputs": [],
   "source": [
    "# reading files\n",
    "customer_data = pd.read_csv(PATH + 'user_demographics_v1.csv', parse_dates=['reg_date'])\n",
    "app_purchases = pd.read_csv(PATH + 'purchase_data_v1.csv',parse_dates=['date'])"
   ]
  },
  {
   "cell_type": "code",
   "execution_count": 600,
   "metadata": {},
   "outputs": [
    {
     "name": "stdout",
     "output_type": "stream",
     "text": [
      "          uid                  reg_date device gender country  age\n",
      "0  54030035.0 2017-06-29 00:00:00+00:00    and      M     USA   19\n",
      "1  72574201.0 2018-03-05 00:00:00+00:00    iOS      F     TUR   22\n",
      "2  64187558.0 2016-02-07 00:00:00+00:00    iOS      M     USA   16\n",
      "3  92513925.0 2017-05-25 00:00:00+00:00    and      M     BRA   41\n",
      "4  99231338.0 2017-03-26 00:00:00+00:00    iOS      M     FRA   59\n",
      "Index(['uid', 'reg_date', 'device', 'gender', 'country', 'age'], dtype='object')\n",
      "(10000, 6)\n",
      "\n",
      "                 uid           age\n",
      "count  1.000000e+04  10000.000000\n",
      "mean   5.580304e+07     24.399200\n",
      "std    2.562174e+07      9.772512\n",
      "min    1.111609e+07     15.000000\n",
      "25%    3.392627e+07     17.000000\n",
      "50%    5.627628e+07     21.000000\n",
      "75%    7.786440e+07     28.000000\n",
      "max    9.999648e+07     84.000000\n"
     ]
    }
   ],
   "source": [
    "# exploring the customer data\n",
    "print(customer_data.head())\n",
    "print(customer_data.columns)\n",
    "print(customer_data.shape)\n",
    "print(\"\\n\", customer_data.describe())"
   ]
  },
  {
   "cell_type": "code",
   "execution_count": 601,
   "metadata": {},
   "outputs": [
    {
     "name": "stdout",
     "output_type": "stream",
     "text": [
      "        date       uid            sku  price\n",
      "0 2017-07-10  41195147  sku_three_499    499\n",
      "1 2017-07-15  41195147  sku_three_499    499\n",
      "2 2017-11-12  41195147   sku_four_599    599\n",
      "3 2017-09-26  91591874    sku_two_299    299\n",
      "4 2017-12-01  91591874   sku_four_599    599\n",
      "Index(['date', 'uid', 'sku', 'price'], dtype='object')\n",
      "(9006, 4)\n",
      "\n",
      "                 uid        price\n",
      "count  9.006000e+03  9006.000000\n",
      "mean   5.719633e+07   406.772596\n",
      "std    2.652288e+07   187.918230\n",
      "min    1.115855e+07    99.000000\n",
      "25%    3.421581e+07   299.000000\n",
      "50%    5.790297e+07   299.000000\n",
      "75%    8.172713e+07   499.000000\n",
      "max    9.997504e+07   899.000000\n"
     ]
    }
   ],
   "source": [
    "# exploring the app_purchases data\n",
    "print(app_purchases.head())\n",
    "print(app_purchases.columns)\n",
    "print(app_purchases.shape)\n",
    "print(\"\\n\", app_purchases.describe())"
   ]
  },
  {
   "cell_type": "code",
   "execution_count": 602,
   "metadata": {},
   "outputs": [
    {
     "data": {
      "text/html": [
       "<div>\n",
       "<style scoped>\n",
       "    .dataframe tbody tr th:only-of-type {\n",
       "        vertical-align: middle;\n",
       "    }\n",
       "\n",
       "    .dataframe tbody tr th {\n",
       "        vertical-align: top;\n",
       "    }\n",
       "\n",
       "    .dataframe thead th {\n",
       "        text-align: right;\n",
       "    }\n",
       "</style>\n",
       "<table border=\"1\" class=\"dataframe\">\n",
       "  <thead>\n",
       "    <tr style=\"text-align: right;\">\n",
       "      <th></th>\n",
       "      <th>date</th>\n",
       "      <th>uid</th>\n",
       "      <th>sku</th>\n",
       "      <th>price</th>\n",
       "      <th>reg_date</th>\n",
       "      <th>device</th>\n",
       "      <th>gender</th>\n",
       "      <th>country</th>\n",
       "      <th>age</th>\n",
       "    </tr>\n",
       "  </thead>\n",
       "  <tbody>\n",
       "    <tr>\n",
       "      <th>0</th>\n",
       "      <td>2017-07-10</td>\n",
       "      <td>41195147</td>\n",
       "      <td>sku_three_499</td>\n",
       "      <td>499</td>\n",
       "      <td>2017-06-26 00:00:00+00:00</td>\n",
       "      <td>and</td>\n",
       "      <td>M</td>\n",
       "      <td>BRA</td>\n",
       "      <td>17</td>\n",
       "    </tr>\n",
       "    <tr>\n",
       "      <th>1</th>\n",
       "      <td>2017-07-15</td>\n",
       "      <td>41195147</td>\n",
       "      <td>sku_three_499</td>\n",
       "      <td>499</td>\n",
       "      <td>2017-06-26 00:00:00+00:00</td>\n",
       "      <td>and</td>\n",
       "      <td>M</td>\n",
       "      <td>BRA</td>\n",
       "      <td>17</td>\n",
       "    </tr>\n",
       "    <tr>\n",
       "      <th>2</th>\n",
       "      <td>2017-11-12</td>\n",
       "      <td>41195147</td>\n",
       "      <td>sku_four_599</td>\n",
       "      <td>599</td>\n",
       "      <td>2017-06-26 00:00:00+00:00</td>\n",
       "      <td>and</td>\n",
       "      <td>M</td>\n",
       "      <td>BRA</td>\n",
       "      <td>17</td>\n",
       "    </tr>\n",
       "    <tr>\n",
       "      <th>3</th>\n",
       "      <td>2017-09-26</td>\n",
       "      <td>91591874</td>\n",
       "      <td>sku_two_299</td>\n",
       "      <td>299</td>\n",
       "      <td>2017-01-05 00:00:00+00:00</td>\n",
       "      <td>and</td>\n",
       "      <td>M</td>\n",
       "      <td>TUR</td>\n",
       "      <td>17</td>\n",
       "    </tr>\n",
       "    <tr>\n",
       "      <th>4</th>\n",
       "      <td>2017-12-01</td>\n",
       "      <td>91591874</td>\n",
       "      <td>sku_four_599</td>\n",
       "      <td>599</td>\n",
       "      <td>2017-01-05 00:00:00+00:00</td>\n",
       "      <td>and</td>\n",
       "      <td>M</td>\n",
       "      <td>TUR</td>\n",
       "      <td>17</td>\n",
       "    </tr>\n",
       "  </tbody>\n",
       "</table>\n",
       "</div>"
      ],
      "text/plain": [
       "        date       uid            sku  price                  reg_date device  \\\n",
       "0 2017-07-10  41195147  sku_three_499    499 2017-06-26 00:00:00+00:00    and   \n",
       "1 2017-07-15  41195147  sku_three_499    499 2017-06-26 00:00:00+00:00    and   \n",
       "2 2017-11-12  41195147   sku_four_599    599 2017-06-26 00:00:00+00:00    and   \n",
       "3 2017-09-26  91591874    sku_two_299    299 2017-01-05 00:00:00+00:00    and   \n",
       "4 2017-12-01  91591874   sku_four_599    599 2017-01-05 00:00:00+00:00    and   \n",
       "\n",
       "  gender country  age  \n",
       "0      M     BRA   17  \n",
       "1      M     BRA   17  \n",
       "2      M     BRA   17  \n",
       "3      M     TUR   17  \n",
       "4      M     TUR   17  "
      ]
     },
     "execution_count": 602,
     "metadata": {},
     "output_type": "execute_result"
    }
   ],
   "source": [
    "# since both tables have a common key, 'uid', I'll merge on that column \n",
    "uid_combined_data = app_purchases.merge(customer_data, on='uid', how='inner')\n",
    "uid_combined_data.head()"
   ]
  },
  {
   "cell_type": "code",
   "execution_count": 603,
   "metadata": {},
   "outputs": [
    {
     "data": {
      "text/plain": [
       "(9006, 9)"
      ]
     },
     "execution_count": 603,
     "metadata": {},
     "output_type": "execute_result"
    }
   ],
   "source": [
    "uid_combined_data.shape"
   ]
  },
  {
   "attachments": {},
   "cell_type": "markdown",
   "metadata": {},
   "source": [
    "#### Exploring different statistics \n",
    "<ol> <li>price is in cents</li></ol>"
   ]
  },
  {
   "cell_type": "code",
   "execution_count": 604,
   "metadata": {},
   "outputs": [
    {
     "data": {
      "text/html": [
       "<div>\n",
       "<style scoped>\n",
       "    .dataframe tbody tr th:only-of-type {\n",
       "        vertical-align: middle;\n",
       "    }\n",
       "\n",
       "    .dataframe tbody tr th {\n",
       "        vertical-align: top;\n",
       "    }\n",
       "\n",
       "    .dataframe thead th {\n",
       "        text-align: right;\n",
       "    }\n",
       "</style>\n",
       "<table border=\"1\" class=\"dataframe\">\n",
       "  <thead>\n",
       "    <tr style=\"text-align: right;\">\n",
       "      <th></th>\n",
       "      <th>uid</th>\n",
       "      <th>price</th>\n",
       "      <th>age</th>\n",
       "    </tr>\n",
       "  </thead>\n",
       "  <tbody>\n",
       "    <tr>\n",
       "      <th>count</th>\n",
       "      <td>9.006000e+03</td>\n",
       "      <td>9006.000000</td>\n",
       "      <td>9006.000000</td>\n",
       "    </tr>\n",
       "    <tr>\n",
       "      <th>mean</th>\n",
       "      <td>5.719633e+07</td>\n",
       "      <td>406.772596</td>\n",
       "      <td>23.922274</td>\n",
       "    </tr>\n",
       "    <tr>\n",
       "      <th>std</th>\n",
       "      <td>2.652288e+07</td>\n",
       "      <td>187.918230</td>\n",
       "      <td>9.044646</td>\n",
       "    </tr>\n",
       "    <tr>\n",
       "      <th>min</th>\n",
       "      <td>1.115855e+07</td>\n",
       "      <td>99.000000</td>\n",
       "      <td>15.000000</td>\n",
       "    </tr>\n",
       "    <tr>\n",
       "      <th>25%</th>\n",
       "      <td>3.421581e+07</td>\n",
       "      <td>299.000000</td>\n",
       "      <td>17.000000</td>\n",
       "    </tr>\n",
       "    <tr>\n",
       "      <th>50%</th>\n",
       "      <td>5.790297e+07</td>\n",
       "      <td>299.000000</td>\n",
       "      <td>21.000000</td>\n",
       "    </tr>\n",
       "    <tr>\n",
       "      <th>75%</th>\n",
       "      <td>8.172713e+07</td>\n",
       "      <td>499.000000</td>\n",
       "      <td>28.000000</td>\n",
       "    </tr>\n",
       "    <tr>\n",
       "      <th>max</th>\n",
       "      <td>9.997504e+07</td>\n",
       "      <td>899.000000</td>\n",
       "      <td>75.000000</td>\n",
       "    </tr>\n",
       "  </tbody>\n",
       "</table>\n",
       "</div>"
      ],
      "text/plain": [
       "                uid        price          age\n",
       "count  9.006000e+03  9006.000000  9006.000000\n",
       "mean   5.719633e+07   406.772596    23.922274\n",
       "std    2.652288e+07   187.918230     9.044646\n",
       "min    1.115855e+07    99.000000    15.000000\n",
       "25%    3.421581e+07   299.000000    17.000000\n",
       "50%    5.790297e+07   299.000000    21.000000\n",
       "75%    8.172713e+07   499.000000    28.000000\n",
       "max    9.997504e+07   899.000000    75.000000"
      ]
     },
     "execution_count": 604,
     "metadata": {},
     "output_type": "execute_result"
    }
   ],
   "source": [
    "uid_combined_data.describe()"
   ]
  },
  {
   "cell_type": "code",
   "execution_count": 605,
   "metadata": {},
   "outputs": [
    {
     "data": {
      "text/plain": [
       "date        0\n",
       "uid         0\n",
       "sku         0\n",
       "price       0\n",
       "reg_date    0\n",
       "device      0\n",
       "gender      0\n",
       "country     0\n",
       "age         0\n",
       "dtype: int64"
      ]
     },
     "execution_count": 605,
     "metadata": {},
     "output_type": "execute_result"
    }
   ],
   "source": [
    "# checking for missing values \n",
    "uid_combined_data.isnull().sum()"
   ]
  },
  {
   "attachments": {},
   "cell_type": "markdown",
   "metadata": {},
   "source": [
    "### Exploring Price\n"
   ]
  },
  {
   "cell_type": "code",
   "execution_count": 606,
   "metadata": {},
   "outputs": [
    {
     "data": {
      "text/plain": [
       "mean      406.772596\n",
       "median    299.000000\n",
       "std       187.918230\n",
       "min        99.000000\n",
       "max       899.000000\n",
       "Name: price, dtype: float64"
      ]
     },
     "execution_count": 606,
     "metadata": {},
     "output_type": "execute_result"
    }
   ],
   "source": [
    "# exploring the price column , price is in cents \n",
    "purchase_price_summary = uid_combined_data.price.agg(['mean', 'median', 'std', 'min', 'max'])\n",
    "purchase_price_summary"
   ]
  },
  {
   "cell_type": "code",
   "execution_count": 607,
   "metadata": {},
   "outputs": [
    {
     "data": {
      "text/plain": [
       "46.197367340286554"
      ]
     },
     "execution_count": 607,
     "metadata": {},
     "output_type": "execute_result"
    }
   ],
   "source": [
    "# coefficient of variation = checking if its within a acceptable range < 0.5\n",
    "cv = purchase_price_summary['std'] / purchase_price_summary['mean'] * 100\n",
    "cv"
   ]
  },
  {
   "cell_type": "code",
   "execution_count": 608,
   "metadata": {},
   "outputs": [
    {
     "data": {
      "text/plain": [
       "<AxesSubplot:>"
      ]
     },
     "execution_count": 608,
     "metadata": {},
     "output_type": "execute_result"
    },
    {
     "data": {
      "image/png": "[encoded data removed]",
      "text/plain": [
       "<Figure size 432x288 with 1 Axes>"
      ]
     },
     "metadata": {
      "needs_background": "light"
     },
     "output_type": "display_data"
    }
   ],
   "source": [
    "# now i'll look at the distribution of the price column\n",
    "uid_combined_data.price.hist(bins=100)"
   ]
  },
  {
   "cell_type": "code",
   "execution_count": 609,
   "metadata": {},
   "outputs": [
    {
     "data": {
      "text/plain": [
       "<AxesSubplot:>"
      ]
     },
     "execution_count": 609,
     "metadata": {},
     "output_type": "execute_result"
    },
    {
     "data": {
      "image/png": "[encoded data removed]",
      "text/plain": [
       "<Figure size 432x288 with 1 Axes>"
      ]
     },
     "metadata": {
      "needs_background": "light"
     },
     "output_type": "display_data"
    }
   ],
   "source": [
    "# checking if the $1 and $9 are outliers\n",
    "q1 = uid_combined_data.price.quantile(0.25)\n",
    "q3 = uid_combined_data.price.quantile(0.75)\n",
    "iqr = q3 - q1\n",
    "\n",
    "lower_bound = q1 - 1.5 * iqr\n",
    "upper_bound = q3 + 1.5 * iqr\n",
    "\n",
    "price_outliers = uid_combined_data[(uid_combined_data['price']< lower_bound) | (uid_combined_data['price']>upper_bound)]\n",
    "price_outliers.price.hist()"
   ]
  },
  {
   "attachments": {},
   "cell_type": "markdown",
   "metadata": {},
   "source": [
    "<b> Observation </b>\n",
    "<ul>\n",
    "<li> The average price is $4 </li>\n",
    "<li> The highest price frequencies is $3 and $5 </li>\n",
    "<li> The lowest price frequencies is $1 and $9 </li>\n",
    "<li> $9 is an outlier, this suggests that its an extreme subscription offer in the data </li>\n",
    "\n",
    "\n"
   ]
  },
  {
   "attachments": {},
   "cell_type": "markdown",
   "metadata": {},
   "source": [
    "### Exploring Price & Age\n"
   ]
  },
  {
   "cell_type": "code",
   "execution_count": 610,
   "metadata": {},
   "outputs": [
    {
     "data": {
      "text/html": [
       "<div>\n",
       "<style scoped>\n",
       "    .dataframe tbody tr th:only-of-type {\n",
       "        vertical-align: middle;\n",
       "    }\n",
       "\n",
       "    .dataframe tbody tr th {\n",
       "        vertical-align: top;\n",
       "    }\n",
       "\n",
       "    .dataframe thead th {\n",
       "        text-align: right;\n",
       "    }\n",
       "</style>\n",
       "<table border=\"1\" class=\"dataframe\">\n",
       "  <thead>\n",
       "    <tr style=\"text-align: right;\">\n",
       "      <th></th>\n",
       "      <th>age</th>\n",
       "    </tr>\n",
       "  </thead>\n",
       "  <tbody>\n",
       "    <tr>\n",
       "      <th>mean</th>\n",
       "      <td>23.922274</td>\n",
       "    </tr>\n",
       "    <tr>\n",
       "      <th>median</th>\n",
       "      <td>21.000000</td>\n",
       "    </tr>\n",
       "    <tr>\n",
       "      <th>std</th>\n",
       "      <td>9.044646</td>\n",
       "    </tr>\n",
       "    <tr>\n",
       "      <th>min</th>\n",
       "      <td>15.000000</td>\n",
       "    </tr>\n",
       "    <tr>\n",
       "      <th>max</th>\n",
       "      <td>75.000000</td>\n",
       "    </tr>\n",
       "  </tbody>\n",
       "</table>\n",
       "</div>"
      ],
      "text/plain": [
       "              age\n",
       "mean    23.922274\n",
       "median  21.000000\n",
       "std      9.044646\n",
       "min     15.000000\n",
       "max     75.000000"
      ]
     },
     "execution_count": 610,
     "metadata": {},
     "output_type": "execute_result"
    }
   ],
   "source": [
    "# exploring the price & age columns\n",
    "purchase_summary = uid_combined_data.agg({ 'age': ['mean', 'median', 'std', 'min', 'max']})\n",
    "purchase_summary"
   ]
  },
  {
   "cell_type": "code",
   "execution_count": 611,
   "metadata": {},
   "outputs": [
    {
     "data": {
      "text/html": [
       "<div>\n",
       "<style scoped>\n",
       "    .dataframe tbody tr th:only-of-type {\n",
       "        vertical-align: middle;\n",
       "    }\n",
       "\n",
       "    .dataframe tbody tr th {\n",
       "        vertical-align: top;\n",
       "    }\n",
       "\n",
       "    .dataframe thead tr th {\n",
       "        text-align: left;\n",
       "    }\n",
       "\n",
       "    .dataframe thead tr:last-of-type th {\n",
       "        text-align: right;\n",
       "    }\n",
       "</style>\n",
       "<table border=\"1\" class=\"dataframe\">\n",
       "  <thead>\n",
       "    <tr>\n",
       "      <th></th>\n",
       "      <th colspan=\"5\" halign=\"left\">price</th>\n",
       "    </tr>\n",
       "    <tr>\n",
       "      <th></th>\n",
       "      <th>mean</th>\n",
       "      <th>median</th>\n",
       "      <th>std</th>\n",
       "      <th>min</th>\n",
       "      <th>max</th>\n",
       "    </tr>\n",
       "    <tr>\n",
       "      <th>age</th>\n",
       "      <th></th>\n",
       "      <th></th>\n",
       "      <th></th>\n",
       "      <th></th>\n",
       "      <th></th>\n",
       "    </tr>\n",
       "  </thead>\n",
       "  <tbody>\n",
       "    <tr>\n",
       "      <th>15</th>\n",
       "      <td>415.405434</td>\n",
       "      <td>499.0</td>\n",
       "      <td>195.590605</td>\n",
       "      <td>99</td>\n",
       "      <td>899</td>\n",
       "    </tr>\n",
       "    <tr>\n",
       "      <th>17</th>\n",
       "      <td>414.138889</td>\n",
       "      <td>499.0</td>\n",
       "      <td>185.290007</td>\n",
       "      <td>99</td>\n",
       "      <td>899</td>\n",
       "    </tr>\n",
       "    <tr>\n",
       "      <th>21</th>\n",
       "      <td>409.062893</td>\n",
       "      <td>299.0</td>\n",
       "      <td>193.332659</td>\n",
       "      <td>99</td>\n",
       "      <td>899</td>\n",
       "    </tr>\n",
       "    <tr>\n",
       "      <th>16</th>\n",
       "      <td>406.593458</td>\n",
       "      <td>299.0</td>\n",
       "      <td>189.368426</td>\n",
       "      <td>99</td>\n",
       "      <td>899</td>\n",
       "    </tr>\n",
       "    <tr>\n",
       "      <th>23</th>\n",
       "      <td>406.455013</td>\n",
       "      <td>499.0</td>\n",
       "      <td>186.035556</td>\n",
       "      <td>99</td>\n",
       "      <td>899</td>\n",
       "    </tr>\n",
       "    <tr>\n",
       "      <th>18</th>\n",
       "      <td>405.049149</td>\n",
       "      <td>299.0</td>\n",
       "      <td>179.754898</td>\n",
       "      <td>99</td>\n",
       "      <td>899</td>\n",
       "    </tr>\n",
       "    <tr>\n",
       "      <th>19</th>\n",
       "      <td>404.821918</td>\n",
       "      <td>299.0</td>\n",
       "      <td>189.339402</td>\n",
       "      <td>99</td>\n",
       "      <td>899</td>\n",
       "    </tr>\n",
       "    <tr>\n",
       "      <th>20</th>\n",
       "      <td>404.613306</td>\n",
       "      <td>299.0</td>\n",
       "      <td>195.867962</td>\n",
       "      <td>99</td>\n",
       "      <td>899</td>\n",
       "    </tr>\n",
       "    <tr>\n",
       "      <th>24</th>\n",
       "      <td>399.923077</td>\n",
       "      <td>299.0</td>\n",
       "      <td>191.241260</td>\n",
       "      <td>99</td>\n",
       "      <td>899</td>\n",
       "    </tr>\n",
       "    <tr>\n",
       "      <th>22</th>\n",
       "      <td>398.025341</td>\n",
       "      <td>299.0</td>\n",
       "      <td>185.349715</td>\n",
       "      <td>99</td>\n",
       "      <td>899</td>\n",
       "    </tr>\n",
       "  </tbody>\n",
       "</table>\n",
       "</div>"
      ],
      "text/plain": [
       "          price                            \n",
       "           mean median         std min  max\n",
       "age                                        \n",
       "15   415.405434  499.0  195.590605  99  899\n",
       "17   414.138889  499.0  185.290007  99  899\n",
       "21   409.062893  299.0  193.332659  99  899\n",
       "16   406.593458  299.0  189.368426  99  899\n",
       "23   406.455013  499.0  186.035556  99  899\n",
       "18   405.049149  299.0  179.754898  99  899\n",
       "19   404.821918  299.0  189.339402  99  899\n",
       "20   404.613306  299.0  195.867962  99  899\n",
       "24   399.923077  299.0  191.241260  99  899\n",
       "22   398.025341  299.0  185.349715  99  899"
      ]
     },
     "execution_count": 611,
     "metadata": {},
     "output_type": "execute_result"
    }
   ],
   "source": [
    "#  looking at each age group and its corresponding generated mean price\n",
    "purchase_age = uid_combined_data.groupby('age').agg({'price': ['mean', 'median', 'std', 'min', 'max']})\n",
    "purchase_age.head(10).sort_values(by=('price', 'mean'), ascending=False)"
   ]
  },
  {
   "cell_type": "code",
   "execution_count": 612,
   "metadata": {},
   "outputs": [
    {
     "data": {
      "text/plain": [
       "<AxesSubplot:>"
      ]
     },
     "execution_count": 612,
     "metadata": {},
     "output_type": "execute_result"
    },
    {
     "data": {
      "image/png": "[encoded data removed]",
      "text/plain": [
       "<Figure size 432x288 with 1 Axes>"
      ]
     },
     "metadata": {
      "needs_background": "light"
     },
     "output_type": "display_data"
    }
   ],
   "source": [
    "# age distribution\n",
    "uid_combined_data.age.hist()"
   ]
  },
  {
   "cell_type": "code",
   "execution_count": 613,
   "metadata": {},
   "outputs": [
    {
     "data": {
      "image/png": "[encoded data removed]",
      "text/plain": [
       "<Figure size 1296x360 with 1 Axes>"
      ]
     },
     "metadata": {
      "needs_background": "light"
     },
     "output_type": "display_data"
    }
   ],
   "source": [
    "# zooming in on the age distribution and looking at the correlation with price\n",
    "unique_ages = uid_combined_data.age.sort_values().unique()\n",
    "\n",
    "uid_combined_data['age_group'] = pd.cut(uid_combined_data.age, bins= unique_ages)\n",
    "\n",
    "profit_by_age_group = uid_combined_data.groupby('age_group')['price'].mean()\n",
    "\n",
    "fig = plt.figure(figsize=(18, 5))\n",
    "plt.bar(profit_by_age_group.index.astype(str), profit_by_age_group.values, width=0.5)\n",
    "plt.xlabel('Age Group')\n",
    "plt.ylabel('Mean Profit')\n",
    "plt.title('Mean Profit by Age Group')\n",
    "plt.show()\n"
   ]
  },
  {
   "cell_type": "code",
   "execution_count": 614,
   "metadata": {},
   "outputs": [
    {
     "name": "stdout",
     "output_type": "stream",
     "text": [
      "Potential age outliers: AxesSubplot(0.125,0.125;0.775x0.755)\n"
     ]
    },
    {
     "data": {
      "image/png": "[encoded data removed]",
      "text/plain": [
       "<Figure size 432x288 with 1 Axes>"
      ]
     },
     "metadata": {
      "needs_background": "light"
     },
     "output_type": "display_data"
    }
   ],
   "source": [
    "# due to spikes at ages 39 and 61 in price, I'll check for outliers \n",
    "q1_age = uid_combined_data.age.quantile(0.25)\n",
    "q3_age = uid_combined_data.age.quantile(0.75)\n",
    "iqr_age = q3_age - q1_age\n",
    "\n",
    "\n",
    "lower_bound_age = q1_age - 1.5 * iqr_age\n",
    "upper_bound_age = q3_age + 1.5 * iqr_age\n",
    "\n",
    "\n",
    "age_outliers = uid_combined_data[(uid_combined_data['age']< lower_bound_age) | (uid_combined_data['age']> upper_bound_age)]\n",
    "\n",
    "print('Potential age outliers:', age_outliers.age.hist())"
   ]
  },
  {
   "cell_type": "code",
   "execution_count": 615,
   "metadata": {},
   "outputs": [
    {
     "data": {
      "image/png": "[encoded data removed]",
      "text/plain": [
       "<Figure size 1296x648 with 1 Axes>"
      ]
     },
     "metadata": {
      "needs_background": "light"
     },
     "output_type": "display_data"
    }
   ],
   "source": [
    "# looking at age distribution in each country \n",
    "filtered_ages_under_45 = uid_combined_data[uid_combined_data['age'] < 45]\n",
    "\n",
    "# unique users per country\n",
    "age_counts_per_country = filtered_ages_under_45.groupby(['country', 'age'])['uid'].nunique().reset_index(name='count')\n",
    "\n",
    "fig, ax = plt.subplots(figsize=(18, 9))\n",
    "cmap=plt.get_cmap('tab20')\n",
    "age_counts_per_country.pivot(index= 'country', columns='age', values='count').plot(kind = 'bar', ax=ax,cmap=cmap)\n",
    "\n",
    "ax.set_xlabel('Country')\n",
    "ax.set_ylabel('Player Count/ Number of unique users')\n",
    "ax.set_title ('Age Distribution by Country')\n",
    "ax.legend(title='Age', loc='upper right', bbox_to_anchor=(1.2, 1))\n",
    "plt.show()"
   ]
  },
  {
   "attachments": {},
   "cell_type": "markdown",
   "metadata": {},
   "source": [
    "<b> Observation </b>\n",
    "<ul>\n",
    "<li> The average user's age is 24 years old, and as young as 15 years old  </li>\n",
    "<li> Users aged 15 generate the highest income </li>\n",
    "<li> Users between the ages of 15 and 24 generate the most amount of income compared to other ages, and account for the highest distribution of users </li>\n",
    "<li> Users from ages 45 onwards are considered outliers </li>\n",
    "<li> In all the countries the app operates in, the most amount of users are within the 15 - 24 year old range </li>\n",
    " \n",
    "\n"
   ]
  },
  {
   "attachments": {},
   "cell_type": "markdown",
   "metadata": {},
   "source": [
    "### Exploring Price & Gender"
   ]
  },
  {
   "cell_type": "code",
   "execution_count": 616,
   "metadata": {},
   "outputs": [
    {
     "data": {
      "text/plain": [
       "gender\n",
       "F    712\n",
       "M    610\n",
       "Name: uid, dtype: int64"
      ]
     },
     "execution_count": 616,
     "metadata": {},
     "output_type": "execute_result"
    }
   ],
   "source": [
    "# how many females to males \n",
    "gender_ratio = uid_combined_data.groupby(['gender']).uid.nunique()\n",
    "gender_ratio"
   ]
  },
  {
   "cell_type": "code",
   "execution_count": 617,
   "metadata": {},
   "outputs": [
    {
     "data": {
      "text/html": [
       "<div>\n",
       "<style scoped>\n",
       "    .dataframe tbody tr th:only-of-type {\n",
       "        vertical-align: middle;\n",
       "    }\n",
       "\n",
       "    .dataframe tbody tr th {\n",
       "        vertical-align: top;\n",
       "    }\n",
       "\n",
       "    .dataframe thead tr th {\n",
       "        text-align: left;\n",
       "    }\n",
       "\n",
       "    .dataframe thead tr:last-of-type th {\n",
       "        text-align: right;\n",
       "    }\n",
       "</style>\n",
       "<table border=\"1\" class=\"dataframe\">\n",
       "  <thead>\n",
       "    <tr>\n",
       "      <th></th>\n",
       "      <th colspan=\"6\" halign=\"left\">price</th>\n",
       "    </tr>\n",
       "    <tr>\n",
       "      <th></th>\n",
       "      <th>mean</th>\n",
       "      <th>median</th>\n",
       "      <th>std</th>\n",
       "      <th>min</th>\n",
       "      <th>max</th>\n",
       "      <th>sum</th>\n",
       "    </tr>\n",
       "    <tr>\n",
       "      <th>gender</th>\n",
       "      <th></th>\n",
       "      <th></th>\n",
       "      <th></th>\n",
       "      <th></th>\n",
       "      <th></th>\n",
       "      <th></th>\n",
       "    </tr>\n",
       "  </thead>\n",
       "  <tbody>\n",
       "    <tr>\n",
       "      <th>F</th>\n",
       "      <td>402.276978</td>\n",
       "      <td>299.0</td>\n",
       "      <td>180.615135</td>\n",
       "      <td>99</td>\n",
       "      <td>899</td>\n",
       "      <td>1927309</td>\n",
       "    </tr>\n",
       "    <tr>\n",
       "      <th>M</th>\n",
       "      <td>411.882562</td>\n",
       "      <td>499.0</td>\n",
       "      <td>195.785251</td>\n",
       "      <td>99</td>\n",
       "      <td>899</td>\n",
       "      <td>1736085</td>\n",
       "    </tr>\n",
       "  </tbody>\n",
       "</table>\n",
       "</div>"
      ],
      "text/plain": [
       "             price                                     \n",
       "              mean median         std min  max      sum\n",
       "gender                                                 \n",
       "F       402.276978  299.0  180.615135  99  899  1927309\n",
       "M       411.882562  499.0  195.785251  99  899  1736085"
      ]
     },
     "execution_count": 617,
     "metadata": {},
     "output_type": "execute_result"
    }
   ],
   "source": [
    "# exploring price and gender \n",
    "purchase_gender = uid_combined_data.groupby('gender').agg({'price': ['mean', 'median', 'std', 'min', 'max', 'sum']})\n",
    "purchase_gender\n"
   ]
  },
  {
   "cell_type": "code",
   "execution_count": 618,
   "metadata": {},
   "outputs": [
    {
     "name": "stdout",
     "output_type": "stream",
     "text": [
      "There is a significant difference between the mean price generated by males and females.\n"
     ]
    }
   ],
   "source": [
    "# because the mean doesn't align with the sum, i'll check for a significant difference between the mean price generated by males and females, \n",
    "male_data = uid_combined_data[uid_combined_data['gender']=='M']['price']\n",
    "female_data = uid_combined_data[uid_combined_data['gender']=='F']['price']\n",
    "\n",
    "# Perform a two-sample t-test\n",
    "t_statistic, p_value = stats.ttest_ind(male_data, female_data)\n",
    "\n",
    "# Check if the p-value is significant (e.g. less than 0.05)\n",
    "if p_value < 0.05:\n",
    "    print('There is a significant difference between the mean price generated by males and females.')\n",
    "else:\n",
    "    print('There is not a significant difference between the mean price generated by males and females.')\n",
    "\n"
   ]
  },
  {
   "cell_type": "code",
   "execution_count": 619,
   "metadata": {},
   "outputs": [
    {
     "name": "stdout",
     "output_type": "stream",
     "text": [
      "                            OLS Regression Results                            \n",
      "==============================================================================\n",
      "Dep. Variable:                  price   R-squared:                       0.001\n",
      "Model:                            OLS   Adj. R-squared:                  0.001\n",
      "Method:                 Least Squares   F-statistic:                     5.862\n",
      "Date:                Fri, 17 Mar 2023   Prob (F-statistic):             0.0155\n",
      "Time:                        15:53:49   Log-Likelihood:                -59931.\n",
      "No. Observations:                9006   AIC:                         1.199e+05\n",
      "Df Residuals:                    9004   BIC:                         1.199e+05\n",
      "Df Model:                           1                                         \n",
      "Covariance Type:            nonrobust                                         \n",
      "==============================================================================\n",
      "                 coef    std err          t      P>|t|      [0.025      0.975]\n",
      "------------------------------------------------------------------------------\n",
      "const        411.8826      2.894    142.338      0.000     406.210     417.555\n",
      "is_female     -9.6056      3.967     -2.421      0.015     -17.383      -1.829\n",
      "==============================================================================\n",
      "Omnibus:                      340.345   Durbin-Watson:                   1.989\n",
      "Prob(Omnibus):                  0.000   Jarque-Bera (JB):              371.405\n",
      "Skew:                           0.486   Prob(JB):                     2.24e-81\n",
      "Kurtosis:                       2.791   Cond. No.                         2.70\n",
      "==============================================================================\n",
      "\n",
      "Notes:\n",
      "[1] Standard Errors assume that the covariance matrix of the errors is correctly specified.\n"
     ]
    }
   ],
   "source": [
    "# since there is a significance between the mean price generated both genders, i'll explore whether there is a relationship between gender and price\n",
    "\n",
    "# Create dummy variables for gender\n",
    "uid_combined_data[\"is_female\"] = pd.get_dummies(uid_combined_data[\"gender\"])[\"F\"]\n",
    "\n",
    "# Fit a linear regression model\n",
    "X = sm.add_constant(uid_combined_data[[\"is_female\"]])\n",
    "y = uid_combined_data[\"price\"]\n",
    "model = sm.OLS(y, X).fit()\n",
    "\n",
    "# Print the summary statistics\n",
    "print(model.summary())"
   ]
  },
  {
   "cell_type": "code",
   "execution_count": 620,
   "metadata": {},
   "outputs": [
    {
     "name": "stdout",
     "output_type": "stream",
     "text": [
      "                            OLS Regression Results                            \n",
      "==============================================================================\n",
      "Dep. Variable:                  price   R-squared:                       0.001\n",
      "Model:                            OLS   Adj. R-squared:                  0.001\n",
      "Method:                 Least Squares   F-statistic:                     5.862\n",
      "Date:                Fri, 17 Mar 2023   Prob (F-statistic):             0.0155\n",
      "Time:                        15:53:49   Log-Likelihood:                -59931.\n",
      "No. Observations:                9006   AIC:                         1.199e+05\n",
      "Df Residuals:                    9004   BIC:                         1.199e+05\n",
      "Df Model:                           1                                         \n",
      "Covariance Type:            nonrobust                                         \n",
      "==============================================================================\n",
      "                 coef    std err          t      P>|t|      [0.025      0.975]\n",
      "------------------------------------------------------------------------------\n",
      "const        402.2770      2.714    148.213      0.000     396.957     407.597\n",
      "is_male        9.6056      3.967      2.421      0.015       1.829      17.383\n",
      "==============================================================================\n",
      "Omnibus:                      340.345   Durbin-Watson:                   1.989\n",
      "Prob(Omnibus):                  0.000   Jarque-Bera (JB):              371.405\n",
      "Skew:                           0.486   Prob(JB):                     2.24e-81\n",
      "Kurtosis:                       2.791   Cond. No.                         2.55\n",
      "==============================================================================\n",
      "\n",
      "Notes:\n",
      "[1] Standard Errors assume that the covariance matrix of the errors is correctly specified.\n"
     ]
    }
   ],
   "source": [
    "# Fit a linear regression model\n",
    "uid_combined_data[\"is_male\"] = pd.get_dummies(uid_combined_data[\"gender\"])[\"M\"]\n",
    "X = sm.add_constant(uid_combined_data[[\"is_male\"]])\n",
    "y = uid_combined_data[\"price\"]\n",
    "model = sm.OLS(y, X).fit()\n",
    "\n",
    "# Print the summary statistics\n",
    "print(model.summary())"
   ]
  },
  {
   "attachments": {},
   "cell_type": "markdown",
   "metadata": {},
   "source": [
    "It seems that gender does play a part in how much revenue is generated. Males are more likely to pay, an average of 9.6056 more than females. "
   ]
  },
  {
   "cell_type": "code",
   "execution_count": 621,
   "metadata": {},
   "outputs": [
    {
     "data": {
      "image/png": "[encoded data removed]",
      "text/plain": [
       "<Figure size 1296x360 with 1 Axes>"
      ]
     },
     "metadata": {
      "needs_background": "light"
     },
     "output_type": "display_data"
    },
    {
     "data": {
      "image/png": "[encoded data removed]",
      "text/plain": [
       "<Figure size 1296x360 with 1 Axes>"
      ]
     },
     "metadata": {
      "needs_background": "light"
     },
     "output_type": "display_data"
    }
   ],
   "source": [
    "# is it a specific gender within the different age groups that is more likely to pay more for the subscription?\n",
    "\n",
    "filtered_ages = uid_combined_data[uid_combined_data['age'] < 45]\n",
    "\n",
    "purchase_age_group_sum = filtered_ages.groupby(['age', 'gender']).agg({'price': 'sum'})\n",
    "purchase_age_group_mean = filtered_ages.groupby(['age', 'gender']).agg({'price': 'mean'})\n",
    "\n",
    "purchase_age_group_sum = purchase_age_group_sum.reset_index()\n",
    "purchase_age_group_mean = purchase_age_group_mean.reset_index()\n",
    "\n",
    "# plot \n",
    "plt.figure(figsize=(18, 5))\n",
    "p = sns.barplot(x='age', y='price', hue='gender', data=purchase_age_group_sum)\n",
    "plt.title(\"Total Transactions For Each Gender In Each Age Group\")\n",
    "plt.show()\n",
    "\n",
    "plt.figure(figsize=(18, 5))\n",
    "p = sns.barplot(x='age', y='price', hue='gender', data=purchase_age_group_mean)\n",
    "plt.title(\"Mean Transactions For Each Gender In Each Age Group\")\n",
    "plt.show()"
   ]
  },
  {
   "cell_type": "code",
   "execution_count": 622,
   "metadata": {},
   "outputs": [
    {
     "name": "stdout",
     "output_type": "stream",
     "text": [
      "Females within the typical user age range generated more revenue in total =  1840122\n",
      "Females within the typical user age range generated more revenue on average  = 61337.4\n"
     ]
    }
   ],
   "source": [
    "male_age_fileted_total_purchase = purchase_age_group_sum[purchase_age_group_sum['gender']=='M'].price.sum()\n",
    "female_age_fileted_total_purchase = purchase_age_group_sum[purchase_age_group_sum['gender']=='F'].price.sum()\n",
    "\n",
    "male_age_fileted_mean_purchase = purchase_age_group_sum[purchase_age_group_sum['gender']=='M'].price.mean()\n",
    "female_age_fileted_mean_purchase = purchase_age_group_sum[purchase_age_group_sum['gender']=='F'].price.mean()\n",
    "\n",
    "if male_age_fileted_total_purchase >female_age_fileted_total_purchase:\n",
    "    print(\"Males within the typical user age range generated more revenue in total  = {}\".format(male_age_fileted_total_purchase))\n",
    "else:\n",
    "    print(\"Females within the typical user age range generated more revenue in total =  {}\".format(female_age_fileted_total_purchase))\n",
    "\n",
    "if male_age_fileted_mean_purchase >female_age_fileted_mean_purchase:\n",
    "    print(\"Males within the typical user age range generated more revenue on average = {}\".format(male_age_fileted_mean_purchase))\n",
    "else:\n",
    "    print(\"Females within the typical user age range generated more revenue on average  = {}\".format(female_age_fileted_mean_purchase))\n"
   ]
  },
  {
   "cell_type": "code",
   "execution_count": 623,
   "metadata": {},
   "outputs": [
    {
     "data": {
      "image/png": "[encoded data removed]",
      "text/plain": [
       "<Figure size 1296x648 with 1 Axes>"
      ]
     },
     "metadata": {
      "needs_background": "light"
     },
     "output_type": "display_data"
    }
   ],
   "source": [
    "# age distribution by country\n",
    "\n",
    "# unique users per country\n",
    "age_counts_per_country = filtered_ages_under_45.groupby(['country', 'gender'])['uid'].nunique().reset_index(name='count')\n",
    "\n",
    "fig, ax = plt.subplots(figsize=(18, 9))\n",
    "cmap=plt.get_cmap('tab20')\n",
    "age_counts_per_country.pivot(index= 'country', columns='gender', values='count').plot(kind = 'bar', ax=ax,cmap=cmap)\n",
    "\n",
    "ax.set_xlabel('Country')\n",
    "ax.set_ylabel('Gender distribution')\n",
    "ax.set_title ('Gender distribution by Country')\n",
    "ax.legend(title='Gender', loc='upper right', bbox_to_anchor=(1.2, 1))\n",
    "plt.show()"
   ]
  },
  {
   "cell_type": "code",
   "execution_count": 624,
   "metadata": {},
   "outputs": [
    {
     "data": {
      "image/png": "[encoded data removed]",
      "text/plain": [
       "<Figure size 432x288 with 1 Axes>"
      ]
     },
     "metadata": {
      "needs_background": "light"
     },
     "output_type": "display_data"
    },
    {
     "data": {
      "image/png": "[encoded data removed]",
      "text/plain": [
       "<Figure size 432x288 with 1 Axes>"
      ]
     },
     "metadata": {
      "needs_background": "light"
     },
     "output_type": "display_data"
    }
   ],
   "source": [
    "# plotting the perferred price point for each gender\n",
    "\n",
    "# Resample the data to balance the sample size in each group\n",
    "male_prices = filtered_ages.loc[filtered_ages['gender'] == 'M', 'price']\n",
    "female_prices = filtered_ages.loc[filtered_ages['gender'] == 'F', 'price']\n",
    "\n",
    "# random sample from each set\n",
    "min_size = min(len(male_prices), len(female_prices))\n",
    "male_prices = male_prices.sample(min_size, random_state=1)\n",
    "female_prices = female_prices.sample(min_size, random_state=1)\n",
    "\n",
    "# plotting the distributions, histogram\n",
    "plt.hist(male_prices, bins=20, alpha=0.5, label=\"Male\")\n",
    "plt.hist(female_prices, bins=20, alpha=0.5, label=\"Female\")\n",
    "plt.xlabel(\"Price\")\n",
    "plt.ylabel(\"Count\")\n",
    "plt.title(\"Price Distributions By Gender\")\n",
    "plt.legend()\n",
    "plt.show()\n",
    "\n",
    "\n",
    "# plot kde\n",
    "plt.figure()\n",
    "male_prices.plot(kind='kde', label=\"Male\")\n",
    "female_prices.plot(kind='kde', label=\"Female\")\n",
    "plt.xlabel(\"Price\")\n",
    "plt.ylabel(\"Density\")\n",
    "plt.title(\"Price Distributions By Gender\")\n",
    "plt.legend()\n",
    "plt.show()"
   ]
  },
  {
   "attachments": {},
   "cell_type": "markdown",
   "metadata": {},
   "source": [
    "<b> Observation </b>\n",
    "<ul>\n",
    "<li> There are more females then males </li>\n",
    "<li> When looking at all the data males generate more on average , but females produce a higher total revenue</li>\n",
    "<li> Within the apps age based,15-45, females generate more money in total and on average</li>\n",
    "<li> The gender does play into effect when it comes to revenue generation, it's statistically significant as seen from the t-test </li>\n",
    "<li> Males are more likely to pay, an average of 9.6056 more than females </li>\n",
    "<li> Both genders are likely to purchase subscriptions when the price is between $2 and $6, but the ideal price being closer to $3</li>\n",
    "<li> Young adults account for the most amount of revenue. </li>\n",
    " \n",
    "\n"
   ]
  },
  {
   "attachments": {},
   "cell_type": "markdown",
   "metadata": {},
   "source": [
    "### Exploring Price & Country\n"
   ]
  },
  {
   "cell_type": "code",
   "execution_count": 625,
   "metadata": {},
   "outputs": [
    {
     "data": {
      "text/plain": [
       "6"
      ]
     },
     "execution_count": 625,
     "metadata": {},
     "output_type": "execute_result"
    }
   ],
   "source": [
    "# how many countries are there\n",
    "uid_combined_data.country.nunique()"
   ]
  },
  {
   "cell_type": "code",
   "execution_count": 626,
   "metadata": {},
   "outputs": [
    {
     "data": {
      "text/html": [
       "<div>\n",
       "<style scoped>\n",
       "    .dataframe tbody tr th:only-of-type {\n",
       "        vertical-align: middle;\n",
       "    }\n",
       "\n",
       "    .dataframe tbody tr th {\n",
       "        vertical-align: top;\n",
       "    }\n",
       "\n",
       "    .dataframe thead th {\n",
       "        text-align: right;\n",
       "    }\n",
       "</style>\n",
       "<table border=\"1\" class=\"dataframe\">\n",
       "  <thead>\n",
       "    <tr style=\"text-align: right;\">\n",
       "      <th></th>\n",
       "      <th>country</th>\n",
       "      <th>uid</th>\n",
       "    </tr>\n",
       "  </thead>\n",
       "  <tbody>\n",
       "    <tr>\n",
       "      <th>0</th>\n",
       "      <td>USA</td>\n",
       "      <td>539</td>\n",
       "    </tr>\n",
       "    <tr>\n",
       "      <th>1</th>\n",
       "      <td>BRA</td>\n",
       "      <td>385</td>\n",
       "    </tr>\n",
       "    <tr>\n",
       "      <th>2</th>\n",
       "      <td>TUR</td>\n",
       "      <td>129</td>\n",
       "    </tr>\n",
       "    <tr>\n",
       "      <th>3</th>\n",
       "      <td>DEU</td>\n",
       "      <td>126</td>\n",
       "    </tr>\n",
       "    <tr>\n",
       "      <th>4</th>\n",
       "      <td>FRA</td>\n",
       "      <td>88</td>\n",
       "    </tr>\n",
       "    <tr>\n",
       "      <th>5</th>\n",
       "      <td>CAN</td>\n",
       "      <td>55</td>\n",
       "    </tr>\n",
       "  </tbody>\n",
       "</table>\n",
       "</div>"
      ],
      "text/plain": [
       "  country  uid\n",
       "0     USA  539\n",
       "1     BRA  385\n",
       "2     TUR  129\n",
       "3     DEU  126\n",
       "4     FRA   88\n",
       "5     CAN   55"
      ]
     },
     "execution_count": 626,
     "metadata": {},
     "output_type": "execute_result"
    }
   ],
   "source": [
    "# how many unique users in each country \n",
    "unique_users_region = uid_combined_data.groupby('country').agg({'uid': 'nunique'}).sort_values(by='uid', ascending=False)\n",
    "unique_users_region.reset_index()"
   ]
  },
  {
   "cell_type": "code",
   "execution_count": 627,
   "metadata": {},
   "outputs": [
    {
     "data": {
      "text/plain": [
       "Text(0.5, 1.0, 'Unique Player Count by Country')"
      ]
     },
     "execution_count": 627,
     "metadata": {},
     "output_type": "execute_result"
    },
    {
     "data": {
      "image/png": "[encoded data removed]",
      "text/plain": [
       "<Figure size 432x288 with 1 Axes>"
      ]
     },
     "metadata": {
      "needs_background": "light"
     },
     "output_type": "display_data"
    }
   ],
   "source": [
    "plt.bar(unique_users_region.index, unique_users_region.uid)\n",
    "plt.xlabel('Country')\n",
    "plt.ylabel('Player Count')\n",
    "plt.title('Unique Player Count by Country')"
   ]
  },
  {
   "cell_type": "code",
   "execution_count": 628,
   "metadata": {},
   "outputs": [
    {
     "data": {
      "text/html": [
       "<div>\n",
       "<style scoped>\n",
       "    .dataframe tbody tr th:only-of-type {\n",
       "        vertical-align: middle;\n",
       "    }\n",
       "\n",
       "    .dataframe tbody tr th {\n",
       "        vertical-align: top;\n",
       "    }\n",
       "\n",
       "    .dataframe thead tr th {\n",
       "        text-align: left;\n",
       "    }\n",
       "\n",
       "    .dataframe thead tr:last-of-type th {\n",
       "        text-align: right;\n",
       "    }\n",
       "</style>\n",
       "<table border=\"1\" class=\"dataframe\">\n",
       "  <thead>\n",
       "    <tr>\n",
       "      <th></th>\n",
       "      <th colspan=\"7\" halign=\"left\">price</th>\n",
       "    </tr>\n",
       "    <tr>\n",
       "      <th></th>\n",
       "      <th>mean</th>\n",
       "      <th>median</th>\n",
       "      <th>std</th>\n",
       "      <th>min</th>\n",
       "      <th>max</th>\n",
       "      <th>sum</th>\n",
       "      <th>count</th>\n",
       "    </tr>\n",
       "    <tr>\n",
       "      <th>country</th>\n",
       "      <th></th>\n",
       "      <th></th>\n",
       "      <th></th>\n",
       "      <th></th>\n",
       "      <th></th>\n",
       "      <th></th>\n",
       "      <th></th>\n",
       "    </tr>\n",
       "  </thead>\n",
       "  <tbody>\n",
       "    <tr>\n",
       "      <th>TUR</th>\n",
       "      <td>415.417910</td>\n",
       "      <td>499.0</td>\n",
       "      <td>193.876633</td>\n",
       "      <td>99</td>\n",
       "      <td>899</td>\n",
       "      <td>333996</td>\n",
       "      <td>804</td>\n",
       "    </tr>\n",
       "    <tr>\n",
       "      <th>BRA</th>\n",
       "      <td>409.838901</td>\n",
       "      <td>499.0</td>\n",
       "      <td>191.504978</td>\n",
       "      <td>99</td>\n",
       "      <td>899</td>\n",
       "      <td>1104106</td>\n",
       "      <td>2694</td>\n",
       "    </tr>\n",
       "    <tr>\n",
       "      <th>DEU</th>\n",
       "      <td>409.054645</td>\n",
       "      <td>499.0</td>\n",
       "      <td>178.209847</td>\n",
       "      <td>99</td>\n",
       "      <td>899</td>\n",
       "      <td>374285</td>\n",
       "      <td>915</td>\n",
       "    </tr>\n",
       "    <tr>\n",
       "      <th>USA</th>\n",
       "      <td>403.712329</td>\n",
       "      <td>299.0</td>\n",
       "      <td>186.733872</td>\n",
       "      <td>99</td>\n",
       "      <td>899</td>\n",
       "      <td>1473550</td>\n",
       "      <td>3650</td>\n",
       "    </tr>\n",
       "    <tr>\n",
       "      <th>FRA</th>\n",
       "      <td>401.757353</td>\n",
       "      <td>299.0</td>\n",
       "      <td>186.396792</td>\n",
       "      <td>99</td>\n",
       "      <td>899</td>\n",
       "      <td>218556</td>\n",
       "      <td>544</td>\n",
       "    </tr>\n",
       "    <tr>\n",
       "      <th>CAN</th>\n",
       "      <td>398.248120</td>\n",
       "      <td>299.0</td>\n",
       "      <td>185.868695</td>\n",
       "      <td>99</td>\n",
       "      <td>899</td>\n",
       "      <td>158901</td>\n",
       "      <td>399</td>\n",
       "    </tr>\n",
       "  </tbody>\n",
       "</table>\n",
       "</div>"
      ],
      "text/plain": [
       "              price                                           \n",
       "               mean median         std min  max      sum count\n",
       "country                                                       \n",
       "TUR      415.417910  499.0  193.876633  99  899   333996   804\n",
       "BRA      409.838901  499.0  191.504978  99  899  1104106  2694\n",
       "DEU      409.054645  499.0  178.209847  99  899   374285   915\n",
       "USA      403.712329  299.0  186.733872  99  899  1473550  3650\n",
       "FRA      401.757353  299.0  186.396792  99  899   218556   544\n",
       "CAN      398.248120  299.0  185.868695  99  899   158901   399"
      ]
     },
     "execution_count": 628,
     "metadata": {},
     "output_type": "execute_result"
    }
   ],
   "source": [
    "purchase_region = uid_combined_data.groupby('country').agg({'price': ['mean', 'median', 'std', 'min', 'max', 'sum', 'count']})\n",
    "purchase_region.sort_values(by = ('price', 'sum'), ascending=False).sort_values(by = ('price','mean'), ascending=False)"
   ]
  },
  {
   "cell_type": "code",
   "execution_count": 629,
   "metadata": {},
   "outputs": [
    {
     "data": {
      "image/png": "[encoded data removed]",
      "text/plain": [
       "<Figure size 432x288 with 1 Axes>"
      ]
     },
     "metadata": {
      "needs_background": "light"
     },
     "output_type": "display_data"
    },
    {
     "data": {
      "image/png": "[encoded data removed]",
      "text/plain": [
       "<Figure size 432x288 with 1 Axes>"
      ]
     },
     "metadata": {
      "needs_background": "light"
     },
     "output_type": "display_data"
    }
   ],
   "source": [
    "# calculating the average price of purchases per country \n",
    "average_prices = uid_combined_data.groupby('country')['price'].mean().reset_index(name='average_price').sort_values(by='average_price', ascending=False)\n",
    "\n",
    "# plot the average prices \n",
    "sns.barplot(x='country', y='average_price', data=average_prices)\n",
    "plt.title('Average Price of Purchases by Country')\n",
    "plt.show()\n",
    "\n",
    "# plot the distributions of prices\n",
    "sns.boxplot(x='country', y='price', data=uid_combined_data)\n",
    "plt.title('Price Distributions by Country')\n",
    "plt.show()"
   ]
  },
  {
   "cell_type": "code",
   "execution_count": 630,
   "metadata": {},
   "outputs": [
    {
     "data": {
      "text/plain": [
       "<AxesSubplot:>"
      ]
     },
     "execution_count": 630,
     "metadata": {},
     "output_type": "execute_result"
    },
    {
     "data": {
      "image/png": "[encoded data removed]",
      "text/plain": [
       "<Figure size 432x288 with 1 Axes>"
      ]
     },
     "metadata": {
      "needs_background": "light"
     },
     "output_type": "display_data"
    }
   ],
   "source": [
    "# plotting the distibution of prices in the country with the highest average price (TUR), and the country with the most amount of revenue (USA)\n",
    "turkey_purchases = uid_combined_data.loc[uid_combined_data['country'] == 'TUR', 'price']\n",
    "turkey_purchases.hist()"
   ]
  },
  {
   "cell_type": "code",
   "execution_count": 631,
   "metadata": {},
   "outputs": [
    {
     "data": {
      "text/plain": [
       "<AxesSubplot:>"
      ]
     },
     "execution_count": 631,
     "metadata": {},
     "output_type": "execute_result"
    },
    {
     "data": {
      "image/png": "[encoded data removed]",
      "text/plain": [
       "<Figure size 432x288 with 1 Axes>"
      ]
     },
     "metadata": {
      "needs_background": "light"
     },
     "output_type": "display_data"
    }
   ],
   "source": [
    "usa_purchases = uid_combined_data.loc[uid_combined_data['country'] == 'USA', 'price']\n",
    "usa_purchases.hist()"
   ]
  },
  {
   "cell_type": "code",
   "execution_count": 632,
   "metadata": {},
   "outputs": [
    {
     "name": "stdout",
     "output_type": "stream",
     "text": [
      "There is no significant difference between the average price of purchases in each country\n"
     ]
    }
   ],
   "source": [
    "# running an anova test to see if there is a significant difference between the average price of purchases in each country\n",
    "# null hypothesis: there are no differences between the groups\n",
    "anova_result = pg.anova(data=uid_combined_data, dv='price', between='country')\n",
    "anova_result\n",
    "\n",
    "if anova_result['p-unc'][0] < 0.05:\n",
    "    print(\"There is a significant difference between the average price of purchases in each country\")\n",
    "else:\n",
    "    print(\"There is no significant difference between the average price of purchases in each country\")"
   ]
  },
  {
   "cell_type": "code",
   "execution_count": 633,
   "metadata": {},
   "outputs": [
    {
     "name": "stdout",
     "output_type": "stream",
     "text": [
      "     A    B     mean(A)     mean(B)       diff         se         T   p-tukey  \\\n",
      "0  BRA  CAN  409.838901  398.248120  11.590781  10.080455  1.149827  0.860355   \n",
      "1  BRA  DEU  409.838901  409.054645   0.784256   7.190507  0.109068  0.999998   \n",
      "2  BRA  FRA  409.838901  401.757353   8.081548   8.833150  0.914911  0.942841   \n",
      "3  BRA  TUR  409.838901  415.417910  -5.579009   7.551939 -0.738752  0.977111   \n",
      "4  BRA  USA  409.838901  403.712329   6.126572   4.773224  1.283529  0.794211   \n",
      "\n",
      "      cohen  \n",
      "0  0.060752  \n",
      "1  0.004167  \n",
      "2  0.042388  \n",
      "3 -0.029049  \n",
      "4  0.032454  \n"
     ]
    }
   ],
   "source": [
    "# Perform Tukey's HSD test\n",
    "posthoc = pg.pairwise_tukey(data=uid_combined_data, dv='price', between='country', effsize='cohen')\n",
    "\n",
    "print(posthoc.head())\n"
   ]
  },
  {
   "cell_type": "code",
   "execution_count": 634,
   "metadata": {},
   "outputs": [
    {
     "data": {
      "text/html": [
       "<div>\n",
       "<style scoped>\n",
       "    .dataframe tbody tr th:only-of-type {\n",
       "        vertical-align: middle;\n",
       "    }\n",
       "\n",
       "    .dataframe tbody tr th {\n",
       "        vertical-align: top;\n",
       "    }\n",
       "\n",
       "    .dataframe thead th {\n",
       "        text-align: right;\n",
       "    }\n",
       "</style>\n",
       "<table border=\"1\" class=\"dataframe\">\n",
       "  <thead>\n",
       "    <tr style=\"text-align: right;\">\n",
       "      <th></th>\n",
       "      <th>A</th>\n",
       "      <th>B</th>\n",
       "      <th>mean(A)</th>\n",
       "      <th>mean(B)</th>\n",
       "      <th>diff</th>\n",
       "      <th>se</th>\n",
       "      <th>T</th>\n",
       "      <th>p-tukey</th>\n",
       "      <th>cohen</th>\n",
       "    </tr>\n",
       "  </thead>\n",
       "  <tbody>\n",
       "    <tr>\n",
       "      <th>14</th>\n",
       "      <td>TUR</td>\n",
       "      <td>USA</td>\n",
       "      <td>415.417910</td>\n",
       "      <td>403.712329</td>\n",
       "      <td>11.705582</td>\n",
       "      <td>7.321095</td>\n",
       "      <td>1.598884</td>\n",
       "      <td>0.599305</td>\n",
       "      <td>0.062250</td>\n",
       "    </tr>\n",
       "    <tr>\n",
       "      <th>0</th>\n",
       "      <td>BRA</td>\n",
       "      <td>CAN</td>\n",
       "      <td>409.838901</td>\n",
       "      <td>398.248120</td>\n",
       "      <td>11.590781</td>\n",
       "      <td>10.080455</td>\n",
       "      <td>1.149827</td>\n",
       "      <td>0.860355</td>\n",
       "      <td>0.060752</td>\n",
       "    </tr>\n",
       "    <tr>\n",
       "      <th>2</th>\n",
       "      <td>BRA</td>\n",
       "      <td>FRA</td>\n",
       "      <td>409.838901</td>\n",
       "      <td>401.757353</td>\n",
       "      <td>8.081548</td>\n",
       "      <td>8.833150</td>\n",
       "      <td>0.914911</td>\n",
       "      <td>0.942841</td>\n",
       "      <td>0.042388</td>\n",
       "    </tr>\n",
       "    <tr>\n",
       "      <th>9</th>\n",
       "      <td>DEU</td>\n",
       "      <td>FRA</td>\n",
       "      <td>409.054645</td>\n",
       "      <td>401.757353</td>\n",
       "      <td>7.297292</td>\n",
       "      <td>10.174031</td>\n",
       "      <td>0.717247</td>\n",
       "      <td>0.979920</td>\n",
       "      <td>0.040249</td>\n",
       "    </tr>\n",
       "    <tr>\n",
       "      <th>4</th>\n",
       "      <td>BRA</td>\n",
       "      <td>USA</td>\n",
       "      <td>409.838901</td>\n",
       "      <td>403.712329</td>\n",
       "      <td>6.126572</td>\n",
       "      <td>4.773224</td>\n",
       "      <td>1.283529</td>\n",
       "      <td>0.794211</td>\n",
       "      <td>0.032454</td>\n",
       "    </tr>\n",
       "    <tr>\n",
       "      <th>11</th>\n",
       "      <td>DEU</td>\n",
       "      <td>USA</td>\n",
       "      <td>409.054645</td>\n",
       "      <td>403.712329</td>\n",
       "      <td>5.342316</td>\n",
       "      <td>6.947664</td>\n",
       "      <td>0.768937</td>\n",
       "      <td>0.972708</td>\n",
       "      <td>0.028868</td>\n",
       "    </tr>\n",
       "    <tr>\n",
       "      <th>1</th>\n",
       "      <td>BRA</td>\n",
       "      <td>DEU</td>\n",
       "      <td>409.838901</td>\n",
       "      <td>409.054645</td>\n",
       "      <td>0.784256</td>\n",
       "      <td>7.190507</td>\n",
       "      <td>0.109068</td>\n",
       "      <td>0.999998</td>\n",
       "      <td>0.004167</td>\n",
       "    </tr>\n",
       "  </tbody>\n",
       "</table>\n",
       "</div>"
      ],
      "text/plain": [
       "      A    B     mean(A)     mean(B)       diff         se         T  \\\n",
       "14  TUR  USA  415.417910  403.712329  11.705582   7.321095  1.598884   \n",
       "0   BRA  CAN  409.838901  398.248120  11.590781  10.080455  1.149827   \n",
       "2   BRA  FRA  409.838901  401.757353   8.081548   8.833150  0.914911   \n",
       "9   DEU  FRA  409.054645  401.757353   7.297292  10.174031  0.717247   \n",
       "4   BRA  USA  409.838901  403.712329   6.126572   4.773224  1.283529   \n",
       "11  DEU  USA  409.054645  403.712329   5.342316   6.947664  0.768937   \n",
       "1   BRA  DEU  409.838901  409.054645   0.784256   7.190507  0.109068   \n",
       "\n",
       "     p-tukey     cohen  \n",
       "14  0.599305  0.062250  \n",
       "0   0.860355  0.060752  \n",
       "2   0.942841  0.042388  \n",
       "9   0.979920  0.040249  \n",
       "4   0.794211  0.032454  \n",
       "11  0.972708  0.028868  \n",
       "1   0.999998  0.004167  "
      ]
     },
     "execution_count": 634,
     "metadata": {},
     "output_type": "execute_result"
    }
   ],
   "source": [
    "# filtering out those with a cohen effect size of less than 0.2\n",
    "posthoc_filtered = posthoc[ (posthoc['cohen'] < 0.2) & (posthoc['cohen'] > 0)]\n",
    "posthoc_filtered.sort_values(by='cohen', ascending=False)"
   ]
  },
  {
   "attachments": {},
   "cell_type": "markdown",
   "metadata": {},
   "source": [
    "<b> Observation </b>\n",
    "<ul>\n",
    "<li> USA has the highest number of unique users</li>\n",
    "<li> USA has the most amount of revenue</li>\n",
    "<li> Turkey generated the highest average per user revenue</li>\n",
    "<li> The average subscription price purchased for Turkey was $5, where as the USA has a range of purchases subscriptions at a higher frequency</li>\n",
    "<li> Turkey and Germany (DEU) has on average generated the same amount of revenue, its important to note that the also almost have the same number of users</li> \n",
    "<li> There is a purchase price difference between Turkey and USA, and Brazil and Canada</li>\n",
    "</ul>\n",
    " \n",
    "\n"
   ]
  },
  {
   "attachments": {},
   "cell_type": "markdown",
   "metadata": {},
   "source": [
    "### Exploring Price & Devices"
   ]
  },
  {
   "cell_type": "code",
   "execution_count": 635,
   "metadata": {},
   "outputs": [
    {
     "data": {
      "text/html": [
       "<div>\n",
       "<style scoped>\n",
       "    .dataframe tbody tr th:only-of-type {\n",
       "        vertical-align: middle;\n",
       "    }\n",
       "\n",
       "    .dataframe tbody tr th {\n",
       "        vertical-align: top;\n",
       "    }\n",
       "\n",
       "    .dataframe thead th {\n",
       "        text-align: right;\n",
       "    }\n",
       "</style>\n",
       "<table border=\"1\" class=\"dataframe\">\n",
       "  <thead>\n",
       "    <tr style=\"text-align: right;\">\n",
       "      <th></th>\n",
       "      <th>device</th>\n",
       "      <th>count</th>\n",
       "    </tr>\n",
       "  </thead>\n",
       "  <tbody>\n",
       "    <tr>\n",
       "      <th>0</th>\n",
       "      <td>and</td>\n",
       "      <td>790</td>\n",
       "    </tr>\n",
       "    <tr>\n",
       "      <th>1</th>\n",
       "      <td>iOS</td>\n",
       "      <td>532</td>\n",
       "    </tr>\n",
       "  </tbody>\n",
       "</table>\n",
       "</div>"
      ],
      "text/plain": [
       "  device  count\n",
       "0    and    790\n",
       "1    iOS    532"
      ]
     },
     "execution_count": 635,
     "metadata": {},
     "output_type": "execute_result"
    }
   ],
   "source": [
    "# exploring unique users \n",
    "purchase_devices = uid_combined_data.groupby('device')['uid'].nunique().reset_index(name='count')\n",
    "purchase_devices.head()"
   ]
  },
  {
   "cell_type": "code",
   "execution_count": 636,
   "metadata": {},
   "outputs": [
    {
     "data": {
      "text/html": [
       "<div>\n",
       "<style scoped>\n",
       "    .dataframe tbody tr th:only-of-type {\n",
       "        vertical-align: middle;\n",
       "    }\n",
       "\n",
       "    .dataframe tbody tr th {\n",
       "        vertical-align: top;\n",
       "    }\n",
       "\n",
       "    .dataframe thead tr th {\n",
       "        text-align: left;\n",
       "    }\n",
       "\n",
       "    .dataframe thead tr:last-of-type th {\n",
       "        text-align: right;\n",
       "    }\n",
       "</style>\n",
       "<table border=\"1\" class=\"dataframe\">\n",
       "  <thead>\n",
       "    <tr>\n",
       "      <th></th>\n",
       "      <th colspan=\"6\" halign=\"left\">price</th>\n",
       "    </tr>\n",
       "    <tr>\n",
       "      <th></th>\n",
       "      <th>mean</th>\n",
       "      <th>median</th>\n",
       "      <th>std</th>\n",
       "      <th>min</th>\n",
       "      <th>max</th>\n",
       "      <th>sum</th>\n",
       "    </tr>\n",
       "    <tr>\n",
       "      <th>device</th>\n",
       "      <th></th>\n",
       "      <th></th>\n",
       "      <th></th>\n",
       "      <th></th>\n",
       "      <th></th>\n",
       "      <th></th>\n",
       "    </tr>\n",
       "  </thead>\n",
       "  <tbody>\n",
       "    <tr>\n",
       "      <th>and</th>\n",
       "      <td>408.111319</td>\n",
       "      <td>299.0</td>\n",
       "      <td>187.415789</td>\n",
       "      <td>99</td>\n",
       "      <td>899</td>\n",
       "      <td>2181355</td>\n",
       "    </tr>\n",
       "    <tr>\n",
       "      <th>iOS</th>\n",
       "      <td>404.818082</td>\n",
       "      <td>299.0</td>\n",
       "      <td>188.657954</td>\n",
       "      <td>99</td>\n",
       "      <td>899</td>\n",
       "      <td>1482039</td>\n",
       "    </tr>\n",
       "  </tbody>\n",
       "</table>\n",
       "</div>"
      ],
      "text/plain": [
       "             price                                     \n",
       "              mean median         std min  max      sum\n",
       "device                                                 \n",
       "and     408.111319  299.0  187.415789  99  899  2181355\n",
       "iOS     404.818082  299.0  188.657954  99  899  1482039"
      ]
     },
     "execution_count": 636,
     "metadata": {},
     "output_type": "execute_result"
    }
   ],
   "source": [
    "# exploring devices\n",
    "purchase_devices = uid_combined_data.groupby('device').agg({'price': ['mean', 'median', 'std', 'min', 'max', 'sum']})\n",
    "purchase_devices.head()"
   ]
  },
  {
   "cell_type": "code",
   "execution_count": 637,
   "metadata": {},
   "outputs": [
    {
     "data": {
      "text/html": [
       "<div>\n",
       "<style scoped>\n",
       "    .dataframe tbody tr th:only-of-type {\n",
       "        vertical-align: middle;\n",
       "    }\n",
       "\n",
       "    .dataframe tbody tr th {\n",
       "        vertical-align: top;\n",
       "    }\n",
       "\n",
       "    .dataframe thead th {\n",
       "        text-align: right;\n",
       "    }\n",
       "</style>\n",
       "<table border=\"1\" class=\"dataframe\">\n",
       "  <thead>\n",
       "    <tr style=\"text-align: right;\">\n",
       "      <th></th>\n",
       "      <th>gender</th>\n",
       "      <th>device</th>\n",
       "      <th>uid</th>\n",
       "    </tr>\n",
       "  </thead>\n",
       "  <tbody>\n",
       "    <tr>\n",
       "      <th>0</th>\n",
       "      <td>F</td>\n",
       "      <td>and</td>\n",
       "      <td>435</td>\n",
       "    </tr>\n",
       "    <tr>\n",
       "      <th>1</th>\n",
       "      <td>F</td>\n",
       "      <td>iOS</td>\n",
       "      <td>277</td>\n",
       "    </tr>\n",
       "    <tr>\n",
       "      <th>2</th>\n",
       "      <td>M</td>\n",
       "      <td>and</td>\n",
       "      <td>355</td>\n",
       "    </tr>\n",
       "    <tr>\n",
       "      <th>3</th>\n",
       "      <td>M</td>\n",
       "      <td>iOS</td>\n",
       "      <td>255</td>\n",
       "    </tr>\n",
       "  </tbody>\n",
       "</table>\n",
       "</div>"
      ],
      "text/plain": [
       "  gender device  uid\n",
       "0      F    and  435\n",
       "1      F    iOS  277\n",
       "2      M    and  355\n",
       "3      M    iOS  255"
      ]
     },
     "execution_count": 637,
     "metadata": {},
     "output_type": "execute_result"
    }
   ],
   "source": [
    "# exploring gender and phones\n",
    "devices_gender = uid_combined_data.groupby(['gender', 'device']).agg({'uid': 'nunique'}).reset_index()\n",
    "devices_gender"
   ]
  },
  {
   "cell_type": "code",
   "execution_count": 638,
   "metadata": {},
   "outputs": [
    {
     "data": {
      "image/png": "[encoded data removed]",
      "text/plain": [
       "<Figure size 1296x360 with 1 Axes>"
      ]
     },
     "metadata": {
      "needs_background": "light"
     },
     "output_type": "display_data"
    }
   ],
   "source": [
    "# age group and devices\n",
    "devices_age = uid_combined_data.groupby(['age', 'device']).agg({'uid': 'nunique'}).reset_index()\n",
    "\n",
    "\n",
    "plt.figure(figsize=(18, 5))\n",
    "p = sns.barplot(x='age', y='uid', hue='device', data=devices_age)\n",
    "plt.title(\"Devices owned by age group\")\n",
    "plt.show()"
   ]
  },
  {
   "cell_type": "code",
   "execution_count": 639,
   "metadata": {},
   "outputs": [
    {
     "data": {
      "image/png": "[encoded data removed]",
      "text/plain": [
       "<Figure size 1296x360 with 1 Axes>"
      ]
     },
     "metadata": {
      "needs_background": "light"
     },
     "output_type": "display_data"
    }
   ],
   "source": [
    "# country and devices\n",
    "devices_country = uid_combined_data.groupby(['country', 'device']).agg({'uid': 'nunique'}).reset_index()\n",
    "\n",
    "plt.figure(figsize=(18, 5))\n",
    "p = sns.barplot(x='country', y='uid', hue='device', data=devices_country)\n",
    "plt.title(\"Devices owned by age group\")\n",
    "plt.show()"
   ]
  },
  {
   "attachments": {},
   "cell_type": "markdown",
   "metadata": {},
   "source": [
    "<b> Observation </b>\n",
    "<ul>\n",
    "<li>There are more andriod devices</li>\n",
    "<li> Android devices generate more revenue</li>\n",
    "<li> Females own more android and IOS devices then males, and we explored earlier that they generate more revenue</li>\n",
    "<li> The most amount of devices are owned by the typical user age range  (<45), and that's true across all countries </li>\n",
    "</ul>\n",
    " \n",
    "\n"
   ]
  },
  {
   "attachments": {},
   "cell_type": "markdown",
   "metadata": {},
   "source": [
    "### Exploring Purchases Over Time \n"
   ]
  },
  {
   "cell_type": "code",
   "execution_count": 640,
   "metadata": {},
   "outputs": [],
   "source": [
    "uid_combined_data['date'] = pd.to_datetime(uid_combined_data['date']).dt.date\n",
    "uid_combined_data['reg_date'] = pd.to_datetime(uid_combined_data['reg_date'],format='%Y-%m-%d').dt.date"
   ]
  },
  {
   "cell_type": "code",
   "execution_count": 673,
   "metadata": {},
   "outputs": [
    {
     "data": {
      "text/plain": [
       "<AxesSubplot:title={'center':'Average Weekly Purchases'}, xlabel='Week', ylabel='Average Price'>"
      ]
     },
     "execution_count": 673,
     "metadata": {},
     "output_type": "execute_result"
    },
    {
     "data": {
      "image/png": "[encoded data removed]",
      "text/plain": [
       "<Figure size 1440x432 with 1 Axes>"
      ]
     },
     "metadata": {
      "needs_background": "light"
     },
     "output_type": "display_data"
    }
   ],
   "source": [
    "# weekly_data_temp = uid_combined_data.copy()\n",
    "\n",
    "# setting the date as an index\n",
    "# weekly_data_temp.index = pd.DatetimeIndex(weekly_data_temp.date)\n",
    "\n",
    "# creating a frequency of week on the date index\n",
    "weekly_data = weekly_data_temp.groupby(pd.Grouper(freq='W'))['price'].mean()\n",
    "\n",
    "# Plot the average weekly purchases\n",
    "weekly_data.plot(kind='line', figsize=(20, 6), xlabel='Week', ylabel='Average Price', title='Average Weekly Purchases')"
   ]
  },
  {
   "cell_type": "code",
   "execution_count": 676,
   "metadata": {},
   "outputs": [
    {
     "data": {
      "text/html": [
       "<div>\n",
       "<style scoped>\n",
       "    .dataframe tbody tr th:only-of-type {\n",
       "        vertical-align: middle;\n",
       "    }\n",
       "\n",
       "    .dataframe tbody tr th {\n",
       "        vertical-align: top;\n",
       "    }\n",
       "\n",
       "    .dataframe thead th {\n",
       "        text-align: right;\n",
       "    }\n",
       "</style>\n",
       "<table border=\"1\" class=\"dataframe\">\n",
       "  <thead>\n",
       "    <tr style=\"text-align: right;\">\n",
       "      <th></th>\n",
       "      <th>date</th>\n",
       "      <th>uid</th>\n",
       "      <th>sku</th>\n",
       "      <th>price</th>\n",
       "      <th>reg_date</th>\n",
       "      <th>device</th>\n",
       "      <th>gender</th>\n",
       "      <th>country</th>\n",
       "      <th>age</th>\n",
       "      <th>age_group</th>\n",
       "      <th>is_female</th>\n",
       "      <th>is_male</th>\n",
       "      <th>purchase_since_reg</th>\n",
       "    </tr>\n",
       "  </thead>\n",
       "  <tbody>\n",
       "    <tr>\n",
       "      <th>0</th>\n",
       "      <td>2017-07-10</td>\n",
       "      <td>41195147</td>\n",
       "      <td>sku_three_499</td>\n",
       "      <td>499</td>\n",
       "      <td>2017-06-26</td>\n",
       "      <td>and</td>\n",
       "      <td>M</td>\n",
       "      <td>BRA</td>\n",
       "      <td>17</td>\n",
       "      <td>(16, 17]</td>\n",
       "      <td>0</td>\n",
       "      <td>1</td>\n",
       "      <td>14</td>\n",
       "    </tr>\n",
       "    <tr>\n",
       "      <th>1</th>\n",
       "      <td>2017-07-15</td>\n",
       "      <td>41195147</td>\n",
       "      <td>sku_three_499</td>\n",
       "      <td>499</td>\n",
       "      <td>2017-06-26</td>\n",
       "      <td>and</td>\n",
       "      <td>M</td>\n",
       "      <td>BRA</td>\n",
       "      <td>17</td>\n",
       "      <td>(16, 17]</td>\n",
       "      <td>0</td>\n",
       "      <td>1</td>\n",
       "      <td>19</td>\n",
       "    </tr>\n",
       "    <tr>\n",
       "      <th>2</th>\n",
       "      <td>2017-11-12</td>\n",
       "      <td>41195147</td>\n",
       "      <td>sku_four_599</td>\n",
       "      <td>599</td>\n",
       "      <td>2017-06-26</td>\n",
       "      <td>and</td>\n",
       "      <td>M</td>\n",
       "      <td>BRA</td>\n",
       "      <td>17</td>\n",
       "      <td>(16, 17]</td>\n",
       "      <td>0</td>\n",
       "      <td>1</td>\n",
       "      <td>139</td>\n",
       "    </tr>\n",
       "    <tr>\n",
       "      <th>3</th>\n",
       "      <td>2017-09-26</td>\n",
       "      <td>91591874</td>\n",
       "      <td>sku_two_299</td>\n",
       "      <td>299</td>\n",
       "      <td>2017-01-05</td>\n",
       "      <td>and</td>\n",
       "      <td>M</td>\n",
       "      <td>TUR</td>\n",
       "      <td>17</td>\n",
       "      <td>(16, 17]</td>\n",
       "      <td>0</td>\n",
       "      <td>1</td>\n",
       "      <td>264</td>\n",
       "    </tr>\n",
       "    <tr>\n",
       "      <th>4</th>\n",
       "      <td>2017-12-01</td>\n",
       "      <td>91591874</td>\n",
       "      <td>sku_four_599</td>\n",
       "      <td>599</td>\n",
       "      <td>2017-01-05</td>\n",
       "      <td>and</td>\n",
       "      <td>M</td>\n",
       "      <td>TUR</td>\n",
       "      <td>17</td>\n",
       "      <td>(16, 17]</td>\n",
       "      <td>0</td>\n",
       "      <td>1</td>\n",
       "      <td>330</td>\n",
       "    </tr>\n",
       "  </tbody>\n",
       "</table>\n",
       "</div>"
      ],
      "text/plain": [
       "         date       uid            sku  price    reg_date device gender  \\\n",
       "0  2017-07-10  41195147  sku_three_499    499  2017-06-26    and      M   \n",
       "1  2017-07-15  41195147  sku_three_499    499  2017-06-26    and      M   \n",
       "2  2017-11-12  41195147   sku_four_599    599  2017-06-26    and      M   \n",
       "3  2017-09-26  91591874    sku_two_299    299  2017-01-05    and      M   \n",
       "4  2017-12-01  91591874   sku_four_599    599  2017-01-05    and      M   \n",
       "\n",
       "  country  age age_group  is_female  is_male  purchase_since_reg  \n",
       "0     BRA   17  (16, 17]          0        1                  14  \n",
       "1     BRA   17  (16, 17]          0        1                  19  \n",
       "2     BRA   17  (16, 17]          0        1                 139  \n",
       "3     TUR   17  (16, 17]          0        1                 264  \n",
       "4     TUR   17  (16, 17]          0        1                 330  "
      ]
     },
     "execution_count": 676,
     "metadata": {},
     "output_type": "execute_result"
    }
   ],
   "source": [
    "# till first purchase \n",
    "uid_combined_data['purchase_since_reg'] = ( uid_combined_data['date']  - uid_combined_data['reg_date']).dt.days\n",
    "uid_combined_data.head()"
   ]
  },
  {
   "cell_type": "code",
   "execution_count": 722,
   "metadata": {},
   "outputs": [
    {
     "data": {
      "image/png": "[encoded data removed]",
      "text/plain": [
       "<Figure size 432x288 with 1 Axes>"
      ]
     },
     "metadata": {
      "needs_background": "light"
     },
     "output_type": "display_data"
    }
   ],
   "source": [
    "# Group the data by uid and reg_date, and select the first purchase made by each user, since users can make multiple purchases\n",
    "first_purchases = uid_combined_data.groupby(['uid', 'reg_date']).first()\n",
    "\n",
    "# Plot the first purchases made by each user\n",
    "first_purchases['purchase_since_reg'].plot(kind='hist', bins=20)\n",
    "\n",
    "plt.xlabel('Days Since Registration')\n",
    "plt.ylabel('Frequency')\n",
    "plt.title('Distribution of First Purchases After Registration')\n",
    "plt.show()"
   ]
  },
  {
   "cell_type": "code",
   "execution_count": 724,
   "metadata": {},
   "outputs": [
    {
     "data": {
      "text/plain": [
       "count    1322.000000\n",
       "mean      110.438729\n",
       "std       124.880580\n",
       "min         0.000000\n",
       "25%        26.250000\n",
       "50%        70.000000\n",
       "75%       145.000000\n",
       "max      1027.000000\n",
       "Name: purchase_since_reg, dtype: float64"
      ]
     },
     "execution_count": 724,
     "metadata": {},
     "output_type": "execute_result"
    }
   ],
   "source": [
    "first_purchases.purchase_since_reg.describe()"
   ]
  },
  {
   "cell_type": "code",
   "execution_count": 732,
   "metadata": {},
   "outputs": [
    {
     "name": "stdout",
     "output_type": "stream",
     "text": [
      "100.0 conversion rate\n"
     ]
    }
   ],
   "source": [
    "# how many users bought within the first 100 days  - conversion \n",
    "print(len(first_purchases)/uid_combined_data.uid.nunique()* 100, 'conversion rate')"
   ]
  },
  {
   "cell_type": "code",
   "execution_count": 747,
   "metadata": {},
   "outputs": [
    {
     "name": "stdout",
     "output_type": "stream",
     "text": [
      "567 bought more than one subscription within the first 100 days, thats 42.88956127080182% of the users\n"
     ]
    }
   ],
   "source": [
    "# how many bought mutiple times within the 100 days\n",
    "users_100 = uid_combined_data[uid_combined_data['purchase_since_reg'] <= 100]\n",
    "users_100_counts = users_100.groupby('uid')['sku'].count()\n",
    "\n",
    "multiple_purchase_users = (users_100_counts > 1).sum()\n",
    "print('{} bought more than one subscription within the first 100 days, thats {}% of the users'.format(multiple_purchase_users, \\\n",
    "                                                                multiple_purchase_users/uid_combined_data.uid.nunique()*100))"
   ]
  },
  {
   "attachments": {},
   "cell_type": "markdown",
   "metadata": {},
   "source": [
    "<b> Observation </b>\n",
    "<ul>\n",
    "<li> The average purchase price is consistently above $3 for subscribing users after Jan 2016</li>\n",
    "<li> The average time between registering and purchasing a subscription is 110 days, with a minimum of 0 days and a maximum of 1000+ days </li>\n",
    "<li> The app generate 100% conversion rate within the first 100 days, out of which a 42% of the users bought multiple subscriptions </li>\n",
    "</ul>"
   ]
  }
 ],
 "metadata": {
  "kernelspec": {
   "display_name": "test",
   "language": "python",
   "name": "python3"
  },
  "language_info": {
   "codemirror_mode": {
    "name": "ipython",
    "version": 3
   },
   "file_extension": ".py",
   "mimetype": "text/x-python",
   "name": "python",
   "nbconvert_exporter": "python",
   "pygments_lexer": "ipython3",
   "version": "3.10.4"
  },
  "orig_nbformat": 4,
  "vscode": {
   "interpreter": {
    "hash": "eaf9dc2e27ec7bfe28e580ccd31f3667c71c441c4b737e5632411fb50cbf5c59"
   }
  }
 },
 "nbformat": 4,
 "nbformat_minor": 2
}
